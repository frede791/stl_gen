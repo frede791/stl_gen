{
 "cells": [
  {
   "cell_type": "code",
   "execution_count": null,
   "metadata": {},
   "outputs": [],
   "source": [
    "#Stick to a notebook for now until everything everything has been structured and works. "
   ]
  },
  {
   "cell_type": "code",
   "execution_count": 5,
   "metadata": {},
   "outputs": [],
   "source": [
    "# Rewrite the data to a csv file first.\n",
    "import csv\n",
    "\n",
    "all_lines = []\n",
    "with open(\"/home/frederik/auterion/stl_gen/swissSURFACE3D_Raster_example/swissSURFACE3D_Raster_0.5_xyz_CHLV95_LN02_2695_1259.xyz\") as orig_file:\n",
    "    all_lines = orig_file.readlines()\n",
    "    orig_file.close()\n",
    "\n",
    "csv_file_path = \"/home/frederik/auterion/stl_gen/processed_data/data.csv\"\n",
    "\n",
    "# Open the CSV file for writing\n",
    "with open(csv_file_path, \"w+\", newline=\"\") as csv_file:\n",
    "    csv_writer = csv.writer(csv_file)\n",
    "\n",
    "    # Write the data to the CSV file\n",
    "    for row in all_lines:\n",
    "        csv_writer.writerow(row.split())"
   ]
  },
  {
   "cell_type": "code",
   "execution_count": 2,
   "metadata": {},
   "outputs": [
    {
     "name": "stdout",
     "output_type": "stream",
     "text": [
      "(4000000, 3)\n"
     ]
    }
   ],
   "source": [
    "# With the csv file we can now go through and generate triangles\n",
    "import csv\n",
    "import numpy as np\n",
    "\n",
    "csv_file_path = \"/home/frederik/auterion/stl_gen/processed_data/data.csv\"\n",
    "data_list = []\n",
    "with open(csv_file_path,'r') as csv_file:\n",
    "    csv_reader = csv.reader(csv_file)\n",
    "    _ = next(csv_reader)\n",
    "\n",
    "    for row in csv_reader:\n",
    "        data_list.append(row)\n",
    "\n",
    "    csv_file.close()\n",
    "\n",
    "data = np.array(data_list)\n",
    "\n",
    "data = data.astype(float)\n",
    "\n",
    "print(data.shape)\n",
    "\n",
    "# Find the dataset corners in 2D coordinates\n",
    "max_x = max(data[:,0])\n",
    "min_x = min(data[:,0])\n",
    "max_y = max(data[:,1])\n",
    "min_y = min(data[:,1])"
   ]
  },
  {
   "cell_type": "code",
   "execution_count": 11,
   "metadata": {},
   "outputs": [],
   "source": [
    "# For every point you generate two separate triangles.\n",
    "# Checks that need to be done:\n",
    "# if y == max_y, no restrictions\n",
    "# if y == min_y, no triangle calculation\n",
    "# if x == min_x, no second triangle calculations\n",
    "# if x == max_x, no first triangle calculations\n",
    "\n",
    "# Coordinate System and triangle orientation\n",
    "# -------> y\n",
    "# |\n",
    "# |                 Current -----> Front\n",
    "# |               ↗    |↑           /\n",
    "# V             /      ||   1.    /\n",
    "#             /        ||       /\n",
    "#           /    2.    ||     /\n",
    "#         /            V|   /\n",
    "#     Diagonal<------Below ↙   \n",
    "#\n",
    "from decimal import Decimal\n",
    "\n",
    "def write_block(file,vertex1,vertex2,vertex3):\n",
    "    vec1 = vertex2 - vertex1\n",
    "    vec2 = vertex3 - vertex1\n",
    "\n",
    "    normal = np.zeros(shape=(3))\n",
    "\n",
    "    normal[0] = round(vec1[1]*vec2[2] - vec2[1]*vec1[2],3)\n",
    "    normal[1] = round(vec1[2]*vec2[0] - vec2[2]*vec1[0],3)\n",
    "    normal[2] = round(vec1[0]*vec2[1] - vec2[0]*vec1[1],3)\n",
    "\n",
    "    with open(file,'a') as stl_file:\n",
    "        stl_file.write(f'facet normal {\"{:e}\".format(normal[0])} {\"{:e}\".format(normal[1])} {\"{:e}\".format(normal[2])} \\n')\n",
    "        stl_file.write(\"\\touter loop\\n\")\n",
    "        stl_file.write(f'\\t\\tvertex {\"{:e}\".format(vertex1[0])} {\"{:e}\".format(vertex1[1])} {\"{:e}\".format(vertex1[2])}\\n')\n",
    "        stl_file.write(f'\\t\\tvertex {\"{:e}\".format(vertex2[0])} {\"{:e}\".format(vertex2[1])} {\"{:e}\".format(vertex2[2])}\\n')\n",
    "        stl_file.write(f'\\t\\tvertex {\"{:e}\".format(vertex3[0])} {\"{:e}\".format(vertex3[1])} {\"{:e}\".format(vertex3[2])}\\n')\n",
    "        stl_file.write(\"\\tendloop\\n\")\n",
    "        stl_file.write(\"endfacet\\n\\n\")\n",
    "        stl_file.close()\n",
    "\n",
    "\n",
    "STL_FILE = \"/home/frederik/auterion/stl_gen/processed_data/stl_file.stl\"\n",
    "\n",
    "# Write the header line into the stl file\n",
    "with open(STL_FILE,'w') as stl_file:\n",
    "    stl_file.write(\"solid\\n\")\n",
    "    stl_file.close()\n",
    "\n",
    "#This algorithm only works for raster structures. Irregular point distributions will not be able to use this.\n",
    "for i, xyz in enumerate(data):\n",
    "\n",
    "    # Skip calculation as no triangles can be generated.\n",
    "    if(xyz[1] == min_y):\n",
    "        continue\n",
    "\n",
    "    current = xyz\n",
    "    front = None\n",
    "    below = None\n",
    "    diagonal = None\n",
    "    # Calculate first triangle\n",
    "    if xyz[0] != max_x:\n",
    "        front = data[i+1]\n",
    "        below = data[i+2000] # Tile is 1km x 1km with 50 cm spacing between points. The point \n",
    "        write_block(STL_FILE,current,front,below)\n",
    "        # front = data[]\n",
    "\n",
    "    # Calculate second triangle\n",
    "    if xyz[0] != min_x:\n",
    "        below = data[i+2000]\n",
    "        diagonal = data[i+1999]\n",
    "        write_block(STL_FILE,current,below,diagonal)\n",
    "    \n",
    "\n",
    "with open(STL_FILE,'a') as stl_file:\n",
    "    stl_file.write(\"endsolid\")\n",
    "    stl_file.close()\n"
   ]
  },
  {
   "cell_type": "code",
   "execution_count": 9,
   "metadata": {},
   "outputs": [
    {
     "name": "stdout",
     "output_type": "stream",
     "text": [
      "1.234000e-06\n"
     ]
    }
   ],
   "source": []
  },
  {
   "cell_type": "code",
   "execution_count": null,
   "metadata": {},
   "outputs": [],
   "source": []
  }
 ],
 "metadata": {
  "kernelspec": {
   "display_name": "gz_maps",
   "language": "python",
   "name": "python3"
  },
  "language_info": {
   "codemirror_mode": {
    "name": "ipython",
    "version": 3
   },
   "file_extension": ".py",
   "mimetype": "text/x-python",
   "name": "python",
   "nbconvert_exporter": "python",
   "pygments_lexer": "ipython3",
   "version": "3.10.12"
  }
 },
 "nbformat": 4,
 "nbformat_minor": 2
}
