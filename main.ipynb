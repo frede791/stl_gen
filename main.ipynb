{
 "cells": [
  {
   "cell_type": "code",
   "execution_count": null,
   "metadata": {},
   "outputs": [],
   "source": [
    "#Stick to a notebook for now until everything everything has been structured and works. "
   ]
  },
  {
   "cell_type": "code",
   "execution_count": 5,
   "metadata": {},
   "outputs": [],
   "source": [
    "# Rewrite the data to a csv file first.\n",
    "import csv\n",
    "\n",
    "all_lines = []\n",
    "with open(\"/home/frederik/auterion/stl_gen/swissSURFACE3D_Raster_example/swissSURFACE3D_Raster_0.5_xyz_CHLV95_LN02_2695_1259.xyz\") as orig_file:\n",
    "    all_lines = orig_file.readlines()\n",
    "    orig_file.close()\n",
    "\n",
    "csv_file_path = \"/home/frederik/auterion/stl_gen/processed_data/data.csv\"\n",
    "\n",
    "# Open the CSV file for writing\n",
    "with open(csv_file_path, \"w+\", newline=\"\") as csv_file:\n",
    "    csv_writer = csv.writer(csv_file)\n",
    "\n",
    "    # Write the data to the CSV file\n",
    "    for row in all_lines:\n",
    "        csv_writer.writerow(row.split())"
   ]
  },
  {
   "cell_type": "code",
   "execution_count": 10,
   "metadata": {},
   "outputs": [
    {
     "name": "stdout",
     "output_type": "stream",
     "text": [
      "(4000000, 3)\n"
     ]
    }
   ],
   "source": [
    "# With the csv file we can now go through and generate triangles\n",
    "import csv\n",
    "import numpy as np\n",
    "\n",
    "data_list = []\n",
    "with open(csv_file_path,'r') as csv_file:\n",
    "    csv_reader = csv.reader(csv_file)\n",
    "    _ = next(csv_reader)\n",
    "\n",
    "    for row in csv_reader:\n",
    "        data_list.append(row)\n",
    "\n",
    "    csv_file.close()\n",
    "\n",
    "data = np.array(data_list)\n",
    "\n",
    "data = data.astype(float)\n",
    "\n",
    "print(data.shape)\n",
    "\n",
    "# Find the dataset corners in 2D coordinates\n",
    "max_x = max(data[:,0])\n",
    "min_x = min(data[:,0])\n",
    "max_y = max(data[:,1])\n",
    "min_y = min(data[:,1])"
   ]
  },
  {
   "cell_type": "code",
   "execution_count": 41,
   "metadata": {},
   "outputs": [
    {
     "ename": "KeyboardInterrupt",
     "evalue": "",
     "output_type": "error",
     "traceback": [
      "\u001b[0;31m---------------------------------------------------------------------------\u001b[0m",
      "\u001b[0;31mKeyboardInterrupt\u001b[0m                         Traceback (most recent call last)",
      "\u001b[1;32m/home/frederik/auterion/stl_gen/main.ipynb Cell 4\u001b[0m line \u001b[0;36m7\n\u001b[1;32m     <a href='vscode-notebook-cell:/home/frederik/auterion/stl_gen/main.ipynb#W3sZmlsZQ%3D%3D?line=68'>69</a>\u001b[0m     below \u001b[39m=\u001b[39m data[i\u001b[39m+\u001b[39m\u001b[39m2000\u001b[39m]\n\u001b[1;32m     <a href='vscode-notebook-cell:/home/frederik/auterion/stl_gen/main.ipynb#W3sZmlsZQ%3D%3D?line=69'>70</a>\u001b[0m     diagonal \u001b[39m=\u001b[39m data[i\u001b[39m+\u001b[39m\u001b[39m1999\u001b[39m]\n\u001b[0;32m---> <a href='vscode-notebook-cell:/home/frederik/auterion/stl_gen/main.ipynb#W3sZmlsZQ%3D%3D?line=70'>71</a>\u001b[0m     write_block(STL_FILE,current,below,diagonal)\n\u001b[1;32m     <a href='vscode-notebook-cell:/home/frederik/auterion/stl_gen/main.ipynb#W3sZmlsZQ%3D%3D?line=72'>73</a>\u001b[0m \u001b[39m# if i == 10:\u001b[39;00m\n\u001b[1;32m     <a href='vscode-notebook-cell:/home/frederik/auterion/stl_gen/main.ipynb#W3sZmlsZQ%3D%3D?line=73'>74</a>\u001b[0m \u001b[39m#     break\u001b[39;00m\n\u001b[1;32m     <a href='vscode-notebook-cell:/home/frederik/auterion/stl_gen/main.ipynb#W3sZmlsZQ%3D%3D?line=74'>75</a>\u001b[0m \u001b[39m#Write this into the stl file and calculate the cross-product for the normal. \u001b[39;00m\n",
      "\u001b[1;32m/home/frederik/auterion/stl_gen/main.ipynb Cell 4\u001b[0m line \u001b[0;36m2\n\u001b[1;32m     <a href='vscode-notebook-cell:/home/frederik/auterion/stl_gen/main.ipynb#W3sZmlsZQ%3D%3D?line=26'>27</a>\u001b[0m normal[\u001b[39m0\u001b[39m] \u001b[39m=\u001b[39m \u001b[39mround\u001b[39m(vec1[\u001b[39m1\u001b[39m]\u001b[39m*\u001b[39mvec2[\u001b[39m2\u001b[39m] \u001b[39m-\u001b[39m vec2[\u001b[39m1\u001b[39m]\u001b[39m*\u001b[39mvec1[\u001b[39m2\u001b[39m],\u001b[39m3\u001b[39m)\n\u001b[1;32m     <a href='vscode-notebook-cell:/home/frederik/auterion/stl_gen/main.ipynb#W3sZmlsZQ%3D%3D?line=27'>28</a>\u001b[0m normal[\u001b[39m1\u001b[39m] \u001b[39m=\u001b[39m \u001b[39mround\u001b[39m(vec1[\u001b[39m2\u001b[39m]\u001b[39m*\u001b[39mvec2[\u001b[39m0\u001b[39m] \u001b[39m-\u001b[39m vec2[\u001b[39m2\u001b[39m]\u001b[39m*\u001b[39mvec1[\u001b[39m0\u001b[39m],\u001b[39m3\u001b[39m)\n\u001b[0;32m---> <a href='vscode-notebook-cell:/home/frederik/auterion/stl_gen/main.ipynb#W3sZmlsZQ%3D%3D?line=28'>29</a>\u001b[0m normal[\u001b[39m2\u001b[39m] \u001b[39m=\u001b[39m \u001b[39mround\u001b[39;49m(vec1[\u001b[39m0\u001b[39;49m]\u001b[39m*\u001b[39;49mvec2[\u001b[39m1\u001b[39;49m] \u001b[39m-\u001b[39;49m vec2[\u001b[39m0\u001b[39;49m]\u001b[39m*\u001b[39;49mvec1[\u001b[39m1\u001b[39;49m],\u001b[39m3\u001b[39;49m)\n\u001b[1;32m     <a href='vscode-notebook-cell:/home/frederik/auterion/stl_gen/main.ipynb#W3sZmlsZQ%3D%3D?line=30'>31</a>\u001b[0m \u001b[39mwith\u001b[39;00m \u001b[39mopen\u001b[39m(file,\u001b[39m'\u001b[39m\u001b[39ma\u001b[39m\u001b[39m'\u001b[39m) \u001b[39mas\u001b[39;00m stl_file:\n\u001b[1;32m     <a href='vscode-notebook-cell:/home/frederik/auterion/stl_gen/main.ipynb#W3sZmlsZQ%3D%3D?line=31'>32</a>\u001b[0m     stl_file\u001b[39m.\u001b[39mwrite(\u001b[39mf\u001b[39m\u001b[39m'\u001b[39m\u001b[39mfacet normal \u001b[39m\u001b[39m{\u001b[39;00mnormal[\u001b[39m0\u001b[39m]\u001b[39m}\u001b[39;00m\u001b[39m \u001b[39m\u001b[39m{\u001b[39;00mnormal[\u001b[39m1\u001b[39m]\u001b[39m}\u001b[39;00m\u001b[39m \u001b[39m\u001b[39m{\u001b[39;00mnormal[\u001b[39m2\u001b[39m]\u001b[39m}\u001b[39;00m\u001b[39m \u001b[39m\u001b[39m\\n\u001b[39;00m\u001b[39m'\u001b[39m)\n",
      "\u001b[0;31mKeyboardInterrupt\u001b[0m: "
     ]
    }
   ],
   "source": [
    "# For every point you generate two separate triangles.\n",
    "# Checks that need to be done:\n",
    "# if y == max_y, no restrictions\n",
    "# if y == min_y, no triangle calculation\n",
    "# if x == min_x, no second triangle calculations\n",
    "# if x == max_x, no first triangle calculations\n",
    "\n",
    "# Coordinate System and triangle orientation\n",
    "# -------> y\n",
    "# |\n",
    "# |                 Current -----> Front\n",
    "# |               ↗    |↑           /\n",
    "# V             /      ||   1.    /\n",
    "#             /        ||       /\n",
    "#           /    2.    ||     /\n",
    "#         /            V|   /\n",
    "#     Diagonal<------Below ↙   \n",
    "#\n",
    "from decimal import Decimal\n",
    "\n",
    "def write_block(file,vertex1,vertex2,vertex3):\n",
    "    vec1 = vertex2 - vertex1\n",
    "    vec2 = vertex3 - vertex1\n",
    "\n",
    "    normal = np.zeros(shape=(3))\n",
    "\n",
    "    normal[0] = round(vec1[1]*vec2[2] - vec2[1]*vec1[2],3)\n",
    "    normal[1] = round(vec1[2]*vec2[0] - vec2[2]*vec1[0],3)\n",
    "    normal[2] = round(vec1[0]*vec2[1] - vec2[0]*vec1[1],3)\n",
    "\n",
    "    with open(file,'a') as stl_file:\n",
    "        stl_file.write(f'facet normal {normal[0]} {normal[1]} {normal[2]} \\n')\n",
    "        stl_file.write(\"\\touter loop\\n\")\n",
    "        stl_file.write(f'\\t\\tvertex {vertex1[0]} {vertex1[1]} {vertex1[2]}\\n')\n",
    "        stl_file.write(f'\\t\\tvertex {vertex2[0]} {vertex2[1]} {vertex2[2]}\\n')\n",
    "        stl_file.write(f'\\t\\tvertex {vertex3[0]} {vertex3[1]} {vertex3[2]}\\n')\n",
    "        stl_file.write(\"\\tendloop\\n\")\n",
    "        stl_file.write(\"endfacet\\n\\n\")\n",
    "        stl_file.close()\n",
    "\n",
    "\n",
    "STL_FILE = \"/home/frederik/auterion/stl_gen/processed_data/stl_file.stl\"\n",
    "\n",
    "# Write the header line into the stl file\n",
    "with open(STL_FILE,'w') as stl_file:\n",
    "    stl_file.write(\"solid \\n\")\n",
    "    stl_file.close()\n",
    "\n",
    "#This algorithm only works for raster structures. Irregular point distributions will not be able to use this.\n",
    "for i, xyz in enumerate(data):\n",
    "\n",
    "    # Skip calculation as no triangles can be generated.\n",
    "    if(xyz[1] == min_y):\n",
    "        continue\n",
    "\n",
    "    current = xyz\n",
    "    front = None\n",
    "    below = None\n",
    "    diagonal = None\n",
    "    # Calculate first triangle\n",
    "    if xyz[0] != max_x:\n",
    "        front = data[i+1]\n",
    "        below = data[i+2000] # Tile is 1km x 1km with 50 cm spacing between points. The point \n",
    "        write_block(STL_FILE,current,front,below)\n",
    "        # front = data[]\n",
    "\n",
    "    # Calculate second triangle\n",
    "    if xyz[0] != min_x:\n",
    "        below = data[i+2000]\n",
    "        diagonal = data[i+1999]\n",
    "        write_block(STL_FILE,current,below,diagonal)\n",
    "\n",
    "    #Write this into the stl file and calculate the cross-product for the normal. \n",
    "\n"
   ]
  },
  {
   "cell_type": "code",
   "execution_count": null,
   "metadata": {},
   "outputs": [],
   "source": []
  },
  {
   "cell_type": "code",
   "execution_count": null,
   "metadata": {},
   "outputs": [],
   "source": []
  }
 ],
 "metadata": {
  "kernelspec": {
   "display_name": "gz_maps",
   "language": "python",
   "name": "python3"
  },
  "language_info": {
   "codemirror_mode": {
    "name": "ipython",
    "version": 3
   },
   "file_extension": ".py",
   "mimetype": "text/x-python",
   "name": "python",
   "nbconvert_exporter": "python",
   "pygments_lexer": "ipython3",
   "version": "3.10.12"
  }
 },
 "nbformat": 4,
 "nbformat_minor": 2
}
